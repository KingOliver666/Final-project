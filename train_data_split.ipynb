{
 "cells": [
  {
   "cell_type": "code",
   "execution_count": 2,
   "id": "fad27ad8",
   "metadata": {},
   "outputs": [
    {
     "name": "stdout",
     "output_type": "stream",
     "text": [
      "✅ Train and validation sets saved in: c:\\Users\\16343\\Desktop\\Final project\n"
     ]
    }
   ],
   "source": [
    "import pandas as pd\n",
    "from sklearn.model_selection import train_test_split\n",
    "import os\n",
    "\n",
    "# ─── Configuration ─────────────────────────────────────────────────────────────\n",
    "INPUT_CSV = \"game_news_full_summaries_bart_batched.csv\"  # Replace with your actual CSV file name\n",
    "\n",
    "# ─── Load Data ─────────────────────────────────────────────────────────────────\n",
    "df = pd.read_csv(INPUT_CSV)\n",
    "\n",
    "# ─── Split Data ────────────────────────────────────────────────────────────────\n",
    "train_df, val_df = train_test_split(df, test_size=0.2, random_state=526)\n",
    "\n",
    "# ─── Get the directory of the input CSV ────────────────────────────────────────\n",
    "csv_dir = os.path.dirname(os.path.abspath(INPUT_CSV))\n",
    "\n",
    "# ─── Save Train and Validation CSVs in the same folder ────────────────────────\n",
    "train_df.to_csv(os.path.join(csv_dir, \"train.csv\"), index=False)\n",
    "val_df.to_csv(os.path.join(csv_dir, \"val.csv\"), index=False)\n",
    "\n",
    "print(\"✅ Train and validation sets saved in:\", csv_dir)\n"
   ]
  }
 ],
 "metadata": {
  "kernelspec": {
   "display_name": "base",
   "language": "python",
   "name": "python3"
  },
  "language_info": {
   "codemirror_mode": {
    "name": "ipython",
    "version": 3
   },
   "file_extension": ".py",
   "mimetype": "text/x-python",
   "name": "python",
   "nbconvert_exporter": "python",
   "pygments_lexer": "ipython3",
   "version": "3.11.7"
  }
 },
 "nbformat": 4,
 "nbformat_minor": 5
}
