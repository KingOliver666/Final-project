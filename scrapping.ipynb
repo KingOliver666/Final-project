{
 "cells": [
  {
   "cell_type": "code",
   "execution_count": 37,
   "metadata": {},
   "outputs": [
    {
     "name": "stderr",
     "output_type": "stream",
     "text": [
      "Fetching full texts: 100%|██████████| 90/90 [00:05<00:00, 16.92it/s]"
     ]
    },
    {
     "name": "stdout",
     "output_type": "stream",
     "text": [
      "Saved CSV → Data_csv/playstation_polygon_news.csv\n",
      "Saved JSON → Data_json/playstation_polygon_news.json\n"
     ]
    },
    {
     "name": "stderr",
     "output_type": "stream",
     "text": [
      "\n"
     ]
    }
   ],
   "source": [
    "import requests\n",
    "from bs4 import BeautifulSoup\n",
    "import csv\n",
    "import json\n",
    "from tqdm import tqdm\n",
    "import os\n",
    "\n",
    "API_KEY = \"1acd1280048c408393bc1dfbb1ba9e7b\"  # ← replace with your NewsAPI key\n",
    "NEWSAPI_URL = \"https://newsapi.org/v2/everything\"\n",
    "HEADERS = {\"User-Agent\": \"Mozilla/5.0\"}\n",
    "\n",
    "def fetch_pc_metadata():\n",
    "    \"\"\"Fetch 100 PC‑Gaming articles’ metadata from Polygon via NewsAPI.\"\"\"\n",
    "    params = {\n",
    "        \"q\": \"Playstation\",\n",
    "        \"sources\": \"polygon\",\n",
    "        \"language\": \"en\",\n",
    "        \"pageSize\": 100,  # max 100 per request\n",
    "        \"page\": 1,\n",
    "        \"sortBy\": \"publishedAt\",\n",
    "        \"apiKey\": API_KEY\n",
    "    }\n",
    "    resp = requests.get(NEWSAPI_URL, params=params, headers=HEADERS)\n",
    "    resp.raise_for_status()\n",
    "    return resp.json()[\"articles\"]\n",
    "\n",
    "def fetch_full_text(url):\n",
    "    \"\"\"Scrape the full article text from its URL.\"\"\"\n",
    "    resp = requests.get(url, headers=HEADERS)\n",
    "    resp.raise_for_status()\n",
    "    soup = BeautifulSoup(resp.text, \"html.parser\")\n",
    "\n",
    "    # Polygon article content lives under <div class=\"Article-body\"> \n",
    "    container = soup.find(\"div\", class_=\"Article-body\") or soup.find(\"article\")\n",
    "    paras = container.find_all(\"p\") if container else []\n",
    "    return \"\\n\".join(p.get_text(strip=True) for p in paras)\n",
    "\n",
    "def scrape_and_save():\n",
    "    os.makedirs(\"Data_csv\", exist_ok=True)\n",
    "    os.makedirs(\"Data_json\", exist_ok=True)\n",
    "\n",
    "    # 1) Fetch metadata\n",
    "    articles = fetch_pc_metadata()\n",
    "\n",
    "    # 2) Scrape full text\n",
    "    results = []\n",
    "    for idx, meta in enumerate(tqdm(articles, desc=\"Fetching full texts\"), 1):\n",
    "        url = meta.get(\"url\")\n",
    "        try:\n",
    "            full_text = fetch_full_text(url)\n",
    "        except Exception as e:\n",
    "            print(f\"[{idx}] Error fetching {url}: {e}\")\n",
    "            full_text = \"\"\n",
    "        results.append({\n",
    "            \"title\": meta.get(\"title\", \"\"),\n",
    "            \"publishedAt\": meta.get(\"publishedAt\", \"\"),\n",
    "            \"url\": url,\n",
    "            \"full_text\": full_text\n",
    "        })\n",
    "\n",
    "    # 3a) Save CSV\n",
    "    csv_path = \"Data_csv/playstation_polygon_news.csv\"\n",
    "    with open(csv_path, \"w\", newline=\"\", encoding=\"utf-8\") as f:\n",
    "        writer = csv.DictWriter(f, fieldnames=[\"title\", \"publishedAt\", \"url\", \"full_text\"])\n",
    "        writer.writeheader()\n",
    "        for row in results:\n",
    "            writer.writerow(row)\n",
    "    print(f\"Saved CSV → {csv_path}\")\n",
    "\n",
    "    # 3b) Save JSON\n",
    "    json_path = \"Data_json/playstation_polygon_news.json\"\n",
    "    with open(json_path, \"w\", encoding=\"utf-8\") as f:\n",
    "        json.dump(results, f, ensure_ascii=False, indent=2)\n",
    "    print(f\"Saved JSON → {json_path}\")\n",
    "\n",
    "if __name__ == \"__main__\":\n",
    "    scrape_and_save()\n"
   ]
  }
 ],
 "metadata": {
  "kernelspec": {
   "display_name": "base",
   "language": "python",
   "name": "python3"
  },
  "language_info": {
   "codemirror_mode": {
    "name": "ipython",
    "version": 3
   },
   "file_extension": ".py",
   "mimetype": "text/x-python",
   "name": "python",
   "nbconvert_exporter": "python",
   "pygments_lexer": "ipython3",
   "version": "3.11.7"
  }
 },
 "nbformat": 4,
 "nbformat_minor": 2
}
