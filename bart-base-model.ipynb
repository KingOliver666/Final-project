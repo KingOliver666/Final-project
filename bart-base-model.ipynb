{
 "cells": [
  {
   "cell_type": "code",
   "execution_count": 1,
   "id": "575758ad",
   "metadata": {},
   "outputs": [],
   "source": [
    "from transformers import BartTokenizer, BartForConditionalGeneration\n",
    "import torch\n",
    "\n",
    "# 1) Setup\n",
    "device    = torch.device(\"cuda\" if torch.cuda.is_available() else \"cpu\")\n",
    "MODEL_DIR = \"bart_stage2\"   # your fine‑tuned checkpoint\n",
    "tokenizer = BartTokenizer.from_pretrained(MODEL_DIR)\n",
    "model     = BartForConditionalGeneration.from_pretrained(MODEL_DIR).to(device)\n",
    "\n",
    "# 2) Summarize helper\n",
    "def summarize(\n",
    "    text: str,\n",
    "    max_input_length:   int = 1024,\n",
    "    max_summary_length: int = 350,\n",
    "    min_summary_length: int = 80,\n",
    "    num_beams:          int = 4\n",
    ") -> str:\n",
    "    inputs = tokenizer(\n",
    "        text,\n",
    "        return_tensors=\"pt\",\n",
    "        truncation=True,\n",
    "        padding=\"longest\",\n",
    "        max_length=max_input_length\n",
    "    ).to(device)\n",
    "\n",
    "    summary_ids = model.generate(\n",
    "        **inputs,\n",
    "        max_length=max_summary_length,\n",
    "        min_length=min_summary_length,\n",
    "        num_beams=num_beams,\n",
    "        early_stopping=True\n",
    "    )\n",
    "    return tokenizer.decode(summary_ids[0], skip_special_tokens=True)\n",
    "\n"
   ]
  },
  {
   "cell_type": "code",
   "execution_count": 3,
   "id": "cb3e88a9",
   "metadata": {},
   "outputs": [
    {
     "name": "stdout",
     "output_type": "stream",
     "text": [
      "Summary:\n",
      " Razer's new 2025 lineup of gaming laptops are now up for preorder. Preordering the Razer Blade 18 will get you an X-Ray Razer laptop skin and RGB laptop stand. Orders are expected to ship out starting April 30, so get your reservation in now to prevent any additional delays. The Blade 16 is a Ryzen system and the base config is equipped with an AMD Ryzen AI 9 365 CPU. It has a 16\" 240Hz QHD+ OLED display, RTX 5070 Ti graphics, 32GB of RAM, and a 1TB SSD. It doesn't deliver much of an improvement over its last-generation counterpart, which remains excellent.\n"
     ]
    }
   ],
   "source": [
    "article = \"\"\"\n",
    "Razer's new 2025 lineup of gaming laptops are now up for preorder. TheRazer Blade 16andRazer Blade 18can now be ordered directly from Razer.com and will be equipped with the upcoming Intel and Ryzen processors (depending on which display size you get) as well as the anticipated RTX 5000-series mobile GPUs in three variants: RTX 5070 Ti, RTX 5080, and RTX 5090. Preordering will also get you some bonus accessories depending on the model.\n",
    "\n",
    "Razer Blade laptops are well known for their impeccable build quality. The chassis is built from a single piece of aluminum and is designed to be exceptionally thin and light for a gaming laptop. In order to get away with the svelte form factor, Razer employs its own proprietary cooling design which incorporates a vacuum sealed, liquid filled, copper vapor chamber to effectively whisk away the heat. Much like Apple MacBook Pros, a lot of engineering goes into a Razer Blade laptop, which is why they command a premium price compared to other mainstream brands.\n",
    "The Razer Blade 18 is an Intel-based system and the base config is equipped with the Intel Core Ultra 9 275HX CPU, which is a more performance-minded chip compared to the current Core Ultra 9 185H, which focuses on efficiency. The rest of the specs include an 18\" Dual UHD+ 240Hz display (which can natively switch to FHD+ 440Hz), RTX 5070 Ti graphics, 32GB of RAM, and a 1TB SSD for $3,499.99. You can upgrade to either the RTX 5080 or the RTX 5090.\n",
    "Preordering the Razer Blade 16 will also get you an X-Ray Razer laptop skin and a USB-C dock.\n",
    "The Razer Blade 16 is a Ryzen system and the base config is equipped with an AMD Ryzen AI 9 365 CPU. The rest of the specs include a 16\" 240Hz QHD+ OLED display, RTX 5070 Ti graphics, 32GB of RAM, and a 1TB SSD for $2,999.99. The processor can be upgraded to a Ryzen AI 9 370HX, and the GPU can be upgraded to either the RTX 5080 or  RTX 5090.\n",
    "Preordering the Razer Blade 18 will get youan X-Ray Razer laptop skin and RGB laptop stand.\n",
    "Razer has listed an expected ship date ofApril 30on the product pages.\n",
    "Our benchmarks are in, and it looks like the RTX 5090 is indeed the new king of mobile GPUs, although not by the leaps and bounds we were hoping for. On average, the RTX 5090 is about 5%-10% more powerful than the RTX 4090 that it replaces. However, add in DLSS 4 and the gap widens.\n",
    "RTX 5090 Mobile Reviewby Jacqueline Thomas\n",
    "\"If you already have a decent gaming laptop, you really shouldn’t look at the RTX 5090 twice. It doesn’t deliver much of an improvement over its last-generation counterpart, which remains excellent. However, if you’ve been waiting to upgrade to a high-end gaming laptop for a while, features like multi-frame generation and battery boost will make premium laptops powered by Nvidia’s latest even better.\"\n",
    "Dell announced the return of the venerable Alienware Area-51 gaming laptop back in CES 2025, and starting today it is finally available to order. It comes in two size variants: the16\" model starts at $3,199.99and the18\" model starts at $3,399.99. As expected from Alienware's new flagship laptop, the Area-51 is equipped with current generation components, including the latest and greatest Intel Core Ultra 9 CPU and NVIDIA Blackwell GPU. Orders are expected to ship out starting April 30, so get your reservation in now to prevent any additional delays.\n",
    "IGN's deals team has a combined 30+ years of experience finding the best discounts in gaming, tech, and just about every other category. We don't try to trick our readers into buying things they don't need at prices that aren't worth buying something at. Our ultimate goal is to surface the best possible deals from brands we trust and our editorial team has personal experience with. You can check outour deals standards herefor more information on our process, or keep up with the latest deals we find onIGN's Deals account on Twitter.\n",
    "Eric Song is the IGN commerce manager in charge of finding the best gaming and tech deals every day. When Eric isn't hunting for deals for other people at work, he's hunting for deals for himself during his free time.\n",
    "\"\"\"\n",
    "\n",
    "# 4) Generate and print\n",
    "print(\"Summary:\\n\", summarize(article))\n"
   ]
  }
 ],
 "metadata": {
  "kernelspec": {
   "display_name": "base",
   "language": "python",
   "name": "python3"
  },
  "language_info": {
   "codemirror_mode": {
    "name": "ipython",
    "version": 3
   },
   "file_extension": ".py",
   "mimetype": "text/x-python",
   "name": "python",
   "nbconvert_exporter": "python",
   "pygments_lexer": "ipython3",
   "version": "3.11.7"
  }
 },
 "nbformat": 4,
 "nbformat_minor": 5
}
