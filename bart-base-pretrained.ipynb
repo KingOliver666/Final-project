{
 "cells": [
  {
   "cell_type": "code",
   "execution_count": 56,
   "id": "523418b2",
   "metadata": {},
   "outputs": [],
   "source": [
    "import torch\n",
    "from datasets import load_dataset\n",
    "from transformers import (\n",
    "    BartTokenizer,\n",
    "    BartForConditionalGeneration,\n",
    "    Seq2SeqTrainingArguments,\n",
    "    Seq2SeqTrainer,\n",
    "    DataCollatorForSeq2Seq\n",
    ")\n",
    "import evaluate\n",
    "from bert_score import BERTScorer\n",
    "import wandb\n"
   ]
  },
  {
   "cell_type": "code",
   "execution_count": 57,
   "id": "39696fe1",
   "metadata": {},
   "outputs": [],
   "source": [
    "CHUNK_SIZE      = 512                  # tokens per chunk\n",
    "STRIDE          = 128                  # overlap tokens between chunks\n",
    "BATCH_SIZE      = 8                    # examples per device per step\n",
    "STAGE1_MAX_SUM  = 250                  # max target length for stage 1\n",
    "STAGE2_MAX_SUM  = 350                  # max target length for stage 2\n",
    "EPOCHS_STAGE1   = 20                   # epochs in stage 1\n",
    "EPOCHS_STAGE2   = 20                   # epochs in stage 2\n",
    "MODEL_NAME      = \"facebook/bart-base\" # pretrained checkpoint"
   ]
  },
  {
   "cell_type": "code",
   "execution_count": 58,
   "id": "79e92351",
   "metadata": {},
   "outputs": [
    {
     "name": "stdout",
     "output_type": "stream",
     "text": [
      "Columns now: ['text', 'summary']\n"
     ]
    }
   ],
   "source": [
    "dataset = load_dataset(\n",
    "    \"csv\",\n",
    "    data_files={\"train\": \"train.csv\", \"validation\": \"val.csv\"}\n",
    ")\n",
    "\n",
    "# Drop the extra column and rename so our code lines up:\n",
    "dataset = dataset.remove_columns(\"word_count\")\n",
    "dataset = dataset.rename_column(\"full_text\",    \"text\")\n",
    "dataset = dataset.rename_column(\"brief_summary\",\"summary\")\n",
    "\n",
    "print(\"Columns now:\", dataset[\"train\"].column_names)"
   ]
  },
  {
   "cell_type": "code",
   "execution_count": 59,
   "id": "2a80a1bd",
   "metadata": {},
   "outputs": [
    {
     "name": "stderr",
     "output_type": "stream",
     "text": [
      "Some weights of RobertaModel were not initialized from the model checkpoint at roberta-large and are newly initialized: ['pooler.dense.bias', 'pooler.dense.weight']\n",
      "You should probably TRAIN this model on a down-stream task to be able to use it for predictions and inference.\n"
     ]
    }
   ],
   "source": [
    "tokenizer = BartTokenizer.from_pretrained(MODEL_NAME)\n",
    "model     = BartForConditionalGeneration.from_pretrained(MODEL_NAME)\n",
    "\n",
    "rouge     = evaluate.load(\"rouge\")\n",
    "bertscore = BERTScorer(lang=\"en\", rescale_with_baseline=True)\n",
    "\n",
    "data_collator = DataCollatorForSeq2Seq(\n",
    "    tokenizer,\n",
    "    model=model,\n",
    "    label_pad_token_id=tokenizer.pad_token_id\n",
    ")"
   ]
  },
  {
   "cell_type": "code",
   "execution_count": 60,
   "id": "894638a3",
   "metadata": {},
   "outputs": [],
   "source": [
    "def preprocess_function(examples, max_target_length):\n",
    "    inputs  = [str(x) for x in examples[\"text\"]]\n",
    "    targets = [str(x) for x in examples[\"summary\"]]\n",
    "    # tokenize + fixed padding + optional stride\n",
    "    model_inputs = tokenizer(\n",
    "        inputs,\n",
    "        max_length=CHUNK_SIZE,\n",
    "        padding=\"max_length\",\n",
    "        truncation=True,\n",
    "        stride=STRIDE\n",
    "    )\n",
    "    with tokenizer.as_target_tokenizer():\n",
    "        labels = tokenizer(\n",
    "            targets,\n",
    "            max_length=max_target_length,\n",
    "            padding=\"max_length\",\n",
    "            truncation=True,\n",
    "            stride=STRIDE\n",
    "        )\n",
    "    model_inputs[\"labels\"] = labels[\"input_ids\"]\n",
    "    return model_inputs\n",
    "\n"
   ]
  },
  {
   "cell_type": "code",
   "execution_count": 61,
   "id": "a1b2fb1f",
   "metadata": {},
   "outputs": [],
   "source": [
    "def compute_metrics(eval_pred):\n",
    "    preds, labels = eval_pred\n",
    "    decoded_preds  = tokenizer.batch_decode(preds,  skip_special_tokens=True)\n",
    "    decoded_labels = tokenizer.batch_decode(labels, skip_special_tokens=True)\n",
    "\n",
    "    # ROUGE\n",
    "    result = rouge.compute(\n",
    "        predictions=decoded_preds,\n",
    "        references=decoded_labels\n",
    "    )\n",
    "    # BERTScore\n",
    "    P, R, F1 = bertscore.score(decoded_preds, decoded_labels)\n",
    "    result.update({\n",
    "        \"bertscore_precision\": P.mean().item(),\n",
    "        \"bertscore_recall\":    R.mean().item(),\n",
    "        \"bertscore_f1\":        F1.mean().item()\n",
    "    })\n",
    "    return {k: round(v,4) for k,v in result.items()}"
   ]
  },
  {
   "cell_type": "code",
   "execution_count": 62,
   "id": "41e99795",
   "metadata": {},
   "outputs": [
    {
     "data": {
      "application/vnd.jupyter.widget-view+json": {
       "model_id": "ab24016accf44127bb0f26592099ef08",
       "version_major": 2,
       "version_minor": 0
      },
      "text/plain": [
       "Map:   0%|          | 0/644 [00:00<?, ? examples/s]"
      ]
     },
     "metadata": {},
     "output_type": "display_data"
    },
    {
     "data": {
      "application/vnd.jupyter.widget-view+json": {
       "model_id": "410d10c85238457a8633357d32e15ed6",
       "version_major": 2,
       "version_minor": 0
      },
      "text/plain": [
       "Map:   0%|          | 0/161 [00:00<?, ? examples/s]"
      ]
     },
     "metadata": {},
     "output_type": "display_data"
    },
    {
     "name": "stdout",
     "output_type": "stream",
     "text": [
      "Stage1 train columns: ['input_ids', 'attention_mask', 'labels']\n"
     ]
    }
   ],
   "source": [
    "train_ds_stage1 = dataset[\"train\"].map(\n",
    "    lambda x: preprocess_function(x, STAGE1_MAX_SUM),\n",
    "    batched=True,\n",
    "    remove_columns=[\"text\",\"summary\"]\n",
    ")\n",
    "val_ds_stage1   = dataset[\"validation\"].map(\n",
    "    lambda x: preprocess_function(x, STAGE1_MAX_SUM),\n",
    "    batched=True,\n",
    "    remove_columns=[\"text\",\"summary\"]\n",
    ")\n",
    "\n",
    "print(\"Stage1 train columns:\", train_ds_stage1.column_names)"
   ]
  },
  {
   "cell_type": "code",
   "execution_count": 63,
   "id": "5d5638e6",
   "metadata": {},
   "outputs": [
    {
     "name": "stderr",
     "output_type": "stream",
     "text": [
      "C:\\Users\\16343\\AppData\\Local\\Temp\\ipykernel_24276\\1191062051.py:15: FutureWarning: `tokenizer` is deprecated and will be removed in version 5.0.0 for `Seq2SeqTrainer.__init__`. Use `processing_class` instead.\n",
      "  trainer1 = Seq2SeqTrainer(\n"
     ]
    },
    {
     "data": {
      "text/html": [
       "\n",
       "    <div>\n",
       "      \n",
       "      <progress value='27' max='1620' style='width:300px; height:20px; vertical-align: middle;'></progress>\n",
       "      [  27/1620 02:38 < 2:48:49, 0.16 it/s, Epoch 0.32/20]\n",
       "    </div>\n",
       "    <table border=\"1\" class=\"dataframe\">\n",
       "  <thead>\n",
       " <tr style=\"text-align: left;\">\n",
       "      <th>Epoch</th>\n",
       "      <th>Training Loss</th>\n",
       "      <th>Validation Loss</th>\n",
       "    </tr>\n",
       "  </thead>\n",
       "  <tbody>\n",
       "  </tbody>\n",
       "</table><p>"
      ],
      "text/plain": [
       "<IPython.core.display.HTML object>"
      ]
     },
     "metadata": {},
     "output_type": "display_data"
    },
    {
     "ename": "KeyboardInterrupt",
     "evalue": "",
     "output_type": "error",
     "traceback": [
      "\u001b[1;31m---------------------------------------------------------------------------\u001b[0m",
      "\u001b[1;31mKeyboardInterrupt\u001b[0m                         Traceback (most recent call last)",
      "Cell \u001b[1;32mIn[63], line 25\u001b[0m\n\u001b[0;32m      3\u001b[0m args1 \u001b[38;5;241m=\u001b[39m Seq2SeqTrainingArguments(\n\u001b[0;32m      4\u001b[0m     output_dir                  \u001b[38;5;241m=\u001b[39m\u001b[38;5;124m\"\u001b[39m\u001b[38;5;124mstage1_output\u001b[39m\u001b[38;5;124m\"\u001b[39m,\n\u001b[0;32m      5\u001b[0m     evaluation_strategy         \u001b[38;5;241m=\u001b[39m\u001b[38;5;124m\"\u001b[39m\u001b[38;5;124mepoch\u001b[39m\u001b[38;5;124m\"\u001b[39m,\n\u001b[1;32m   (...)\u001b[0m\n\u001b[0;32m     12\u001b[0m     report_to                   \u001b[38;5;241m=\u001b[39m\u001b[38;5;124m\"\u001b[39m\u001b[38;5;124mwandb\u001b[39m\u001b[38;5;124m\"\u001b[39m,\n\u001b[0;32m     13\u001b[0m )\n\u001b[0;32m     15\u001b[0m trainer1 \u001b[38;5;241m=\u001b[39m Seq2SeqTrainer(\n\u001b[0;32m     16\u001b[0m     model           \u001b[38;5;241m=\u001b[39m model,\n\u001b[0;32m     17\u001b[0m     args            \u001b[38;5;241m=\u001b[39m args1,\n\u001b[1;32m   (...)\u001b[0m\n\u001b[0;32m     22\u001b[0m     compute_metrics \u001b[38;5;241m=\u001b[39m compute_metrics,\n\u001b[0;32m     23\u001b[0m )\n\u001b[1;32m---> 25\u001b[0m trainer1\u001b[38;5;241m.\u001b[39mtrain()\n\u001b[0;32m     26\u001b[0m metrics1 \u001b[38;5;241m=\u001b[39m trainer1\u001b[38;5;241m.\u001b[39mevaluate()\n\u001b[0;32m     27\u001b[0m \u001b[38;5;28mprint\u001b[39m(\u001b[38;5;124m\"\u001b[39m\u001b[38;5;124mStage 1 Validation Metrics:\u001b[39m\u001b[38;5;124m\"\u001b[39m, metrics1)\n",
      "File \u001b[1;32mc:\\Users\\16343\\anaconda3\\Lib\\site-packages\\transformers\\trainer.py:2245\u001b[0m, in \u001b[0;36mTrainer.train\u001b[1;34m(self, resume_from_checkpoint, trial, ignore_keys_for_eval, **kwargs)\u001b[0m\n\u001b[0;32m   2243\u001b[0m         hf_hub_utils\u001b[38;5;241m.\u001b[39menable_progress_bars()\n\u001b[0;32m   2244\u001b[0m \u001b[38;5;28;01melse\u001b[39;00m:\n\u001b[1;32m-> 2245\u001b[0m     \u001b[38;5;28;01mreturn\u001b[39;00m inner_training_loop(\n\u001b[0;32m   2246\u001b[0m         args\u001b[38;5;241m=\u001b[39margs,\n\u001b[0;32m   2247\u001b[0m         resume_from_checkpoint\u001b[38;5;241m=\u001b[39mresume_from_checkpoint,\n\u001b[0;32m   2248\u001b[0m         trial\u001b[38;5;241m=\u001b[39mtrial,\n\u001b[0;32m   2249\u001b[0m         ignore_keys_for_eval\u001b[38;5;241m=\u001b[39mignore_keys_for_eval,\n\u001b[0;32m   2250\u001b[0m     )\n",
      "File \u001b[1;32mc:\\Users\\16343\\anaconda3\\Lib\\site-packages\\transformers\\trainer.py:2561\u001b[0m, in \u001b[0;36mTrainer._inner_training_loop\u001b[1;34m(self, batch_size, args, resume_from_checkpoint, trial, ignore_keys_for_eval)\u001b[0m\n\u001b[0;32m   2555\u001b[0m \u001b[38;5;28;01mwith\u001b[39;00m context():\n\u001b[0;32m   2556\u001b[0m     tr_loss_step \u001b[38;5;241m=\u001b[39m \u001b[38;5;28mself\u001b[39m\u001b[38;5;241m.\u001b[39mtraining_step(model, inputs, num_items_in_batch)\n\u001b[0;32m   2558\u001b[0m \u001b[38;5;28;01mif\u001b[39;00m (\n\u001b[0;32m   2559\u001b[0m     args\u001b[38;5;241m.\u001b[39mlogging_nan_inf_filter\n\u001b[0;32m   2560\u001b[0m     \u001b[38;5;129;01mand\u001b[39;00m \u001b[38;5;129;01mnot\u001b[39;00m is_torch_xla_available()\n\u001b[1;32m-> 2561\u001b[0m     \u001b[38;5;129;01mand\u001b[39;00m (torch\u001b[38;5;241m.\u001b[39misnan(tr_loss_step) \u001b[38;5;129;01mor\u001b[39;00m torch\u001b[38;5;241m.\u001b[39misinf(tr_loss_step))\n\u001b[0;32m   2562\u001b[0m ):\n\u001b[0;32m   2563\u001b[0m     \u001b[38;5;66;03m# if loss is nan or inf simply add the average of previous logged losses\u001b[39;00m\n\u001b[0;32m   2564\u001b[0m     tr_loss \u001b[38;5;241m=\u001b[39m tr_loss \u001b[38;5;241m+\u001b[39m tr_loss \u001b[38;5;241m/\u001b[39m (\u001b[38;5;241m1\u001b[39m \u001b[38;5;241m+\u001b[39m \u001b[38;5;28mself\u001b[39m\u001b[38;5;241m.\u001b[39mstate\u001b[38;5;241m.\u001b[39mglobal_step \u001b[38;5;241m-\u001b[39m \u001b[38;5;28mself\u001b[39m\u001b[38;5;241m.\u001b[39m_globalstep_last_logged)\n\u001b[0;32m   2565\u001b[0m \u001b[38;5;28;01melse\u001b[39;00m:\n",
      "\u001b[1;31mKeyboardInterrupt\u001b[0m: "
     ]
    }
   ],
   "source": [
    "wandb.init(project=\"bart_game_news\", name=\"stage1\")\n",
    "\n",
    "args1 = Seq2SeqTrainingArguments(\n",
    "    output_dir                  =\"stage1_output\",\n",
    "    evaluation_strategy         =\"epoch\",\n",
    "    per_device_train_batch_size =BATCH_SIZE,\n",
    "    per_device_eval_batch_size  =BATCH_SIZE,\n",
    "    num_train_epochs            =EPOCHS_STAGE1,\n",
    "    predict_with_generate       =True,\n",
    "    logging_dir                 =\"logs_stage1\",\n",
    "    logging_steps               =100,\n",
    "    report_to                   =\"wandb\",\n",
    ")\n",
    "\n",
    "trainer1 = Seq2SeqTrainer(\n",
    "    model           = model,\n",
    "    args            = args1,\n",
    "    train_dataset   = train_ds_stage1,\n",
    "    eval_dataset    = val_ds_stage1,\n",
    "    tokenizer       = tokenizer,\n",
    "    data_collator   = data_collator,\n",
    "    compute_metrics = compute_metrics,\n",
    ")\n",
    "\n",
    "trainer1.train()\n",
    "metrics1 = trainer1.evaluate()\n",
    "print(\"Stage 1 Validation Metrics:\", metrics1)\n",
    "\n",
    "trainer1.save_model(\"bart_stage1\")"
   ]
  },
  {
   "cell_type": "code",
   "execution_count": null,
   "id": "ed379c54",
   "metadata": {},
   "outputs": [],
   "source": [
    "model_stage2 = BartForConditionalGeneration.from_pretrained(\"bart_stage1\")\n",
    "\n",
    "train_ds_stage2 = dataset[\"train\"].map(\n",
    "    lambda x: preprocess_function(x, STAGE2_MAX_SUM),\n",
    "    batched=True,\n",
    "    remove_columns=[\"text\",\"summary\"]\n",
    ")\n",
    "val_ds_stage2   = dataset[\"validation\"].map(\n",
    "    lambda x: preprocess_function(x, STAGE2_MAX_SUM),\n",
    "    batched=True,\n",
    "    remove_columns=[\"text\",\"summary\"]\n",
    ")"
   ]
  },
  {
   "cell_type": "code",
   "execution_count": null,
   "id": "a354857c",
   "metadata": {},
   "outputs": [],
   "source": [
    "wandb.init(project=\"bart_game_news\", name=\"stage2\")\n",
    "\n",
    "args2 = Seq2SeqTrainingArguments(\n",
    "    output_dir                  =\"stage2_output\",\n",
    "    evaluation_strategy         =\"epoch\",\n",
    "    per_device_train_batch_size =BATCH_SIZE,\n",
    "    per_device_eval_batch_size  =BATCH_SIZE,\n",
    "    num_train_epochs            =EPOCHS_STAGE2,\n",
    "    predict_with_generate       =True,\n",
    "    logging_dir                 =\"logs_stage2\",\n",
    "    logging_steps               =100,\n",
    "    report_to                   =\"wandb\",\n",
    ")\n",
    "\n",
    "trainer2 = Seq2SeqTrainer(\n",
    "    model           = model_stage2,\n",
    "    args            = args2,\n",
    "    train_dataset   = train_ds_stage2,\n",
    "    eval_dataset    = val_ds_stage2,\n",
    "    tokenizer       = tokenizer,\n",
    "    data_collator   = data_collator,\n",
    "    compute_metrics = compute_metrics,\n",
    ")\n",
    "\n",
    "trainer2.train()\n",
    "metrics2 = trainer2.evaluate()\n",
    "print(\"Stage 2 Validation Metrics:\", metrics2)\n",
    "\n",
    "trainer2.save_model(\"bart_stage2\")"
   ]
  }
 ],
 "metadata": {
  "kernelspec": {
   "display_name": "base",
   "language": "python",
   "name": "python3"
  },
  "language_info": {
   "codemirror_mode": {
    "name": "ipython",
    "version": 3
   },
   "file_extension": ".py",
   "mimetype": "text/x-python",
   "name": "python",
   "nbconvert_exporter": "python",
   "pygments_lexer": "ipython3",
   "version": "3.11.7"
  }
 },
 "nbformat": 4,
 "nbformat_minor": 5
}
